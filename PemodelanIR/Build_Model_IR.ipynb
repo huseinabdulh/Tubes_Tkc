{
 "cells": [
  {
   "cell_type": "code",
   "execution_count": 44,
   "metadata": {},
   "outputs": [],
   "source": [
    "#Gathering Data\n",
    "import os\n",
    "import cv2\n",
    "\n",
    "base_dir = 'C:/Users/ASUS RYZEN/AnacondaJupyter/Masker/DatasetCombinedv2'\n",
    "\n",
    "mask_dir = os.path.join(base_dir, 'WithMask')\n",
    "wout_dir = os.path.join(base_dir, 'WithoutMask')\n",
    "    \n",
    "mask_img_dir = list()\n",
    "wout_img_dir = list()\n",
    "\n",
    "for dirpath, dirnames, filenames in os.walk(mask_dir):\n",
    "    for file in filenames:\n",
    "        if \".png\" in file:\n",
    "            image_path = os.path.join(dirpath, file)\n",
    "            mask_img_dir.append(image_path)\n",
    "\n",
    "for dirpath, dirnames, filenames in os.walk(wout_dir):\n",
    "    for file in filenames:\n",
    "        if \".png\" in file:\n",
    "            image_path = os.path.join(dirpath, file)\n",
    "            wout_img_dir.append(image_path)"
   ]
  },
  {
   "cell_type": "code",
   "execution_count": 45,
   "metadata": {},
   "outputs": [],
   "source": [
    "#Resize + Save\n",
    "from random import shuffle\n",
    "\n",
    "target_dir = 'C:/Users/ASUS RYZEN/AnacondaJupyter/Masker/DatasetCombinedResized'\n",
    "\n",
    "\n",
    "for i, img_path in enumerate(mask_img_dir):\n",
    "    image = cv2.imread(img_path)\n",
    "    image = cv2.resize(image, (300,300))\n",
    "\n",
    "    file_name = f\"mask.png\"\n",
    "    dest = os.path.join(target_dir, file_name)\n",
    "    \n",
    "    cv2.imwrite(dest, image)\n",
    "\n",
    "for i, img_path in enumerate(wout_img_dir):\n",
    "    image = cv2.imread(img_path)\n",
    "    image = cv2.resize(image, (300,300))\n",
    "\n",
    "    file_name = f\"wout.png\"\n",
    "    dest = os.path.join(target_dir, file_name)\n",
    "    \n",
    "    cv2.imwrite(dest, image)"
   ]
  },
  {
   "cell_type": "code",
   "execution_count": 46,
   "metadata": {},
   "outputs": [],
   "source": [
    "from tensorflow.keras.preprocessing import image\n",
    "from tensorflow.keras.applications.vgg16 import VGG16, preprocess_input\n",
    "from tensorflow.keras.applications.densenet import DenseNet121, preprocess_input\n",
    "from tensorflow.keras.models import Model\n",
    "from tensorflow.keras.models import load_model\n",
    "from pathlib import Path\n",
    "from PIL import Image\n",
    "import numpy as np"
   ]
  },
  {
   "cell_type": "code",
   "execution_count": 47,
   "metadata": {},
   "outputs": [],
   "source": [
    "base_model = DenseNet121()\n",
    "model = Model(inputs=base_model.input,\n",
    "                   outputs=base_model.get_layer('predictions').output)\n",
    "\n",
    "model.save('Build_Modell_IR.h5')"
   ]
  },
  {
   "cell_type": "code",
   "execution_count": 48,
   "metadata": {},
   "outputs": [],
   "source": [
    "class FeatureExtractor:\n",
    "    def __init__(self, model):\n",
    "        self.model = model\n",
    "    \n",
    "    def extract(self, img):\n",
    "        img = img.resize((224, 224))\n",
    "        img = img.convert('RGB')\n",
    "        \n",
    "        x = image.img_to_array(img)\n",
    "        x = np.expand_dims(x, axis=0)\n",
    "        x = preprocess_input(x)\n",
    "        \n",
    "        feature = self.model.predict(x)[0]\n",
    "        \n",
    "        return feature / np.linalg.norm(feature)\n",
    "\n",
    "fe = FeatureExtractor(load_model('C:/Users/ASUS RYZEN/AnacondaJupyter/Masker/Build_Model_IR.h5', compile=False))"
   ]
  },
  {
   "cell_type": "code",
   "execution_count": 49,
   "metadata": {},
   "outputs": [],
   "source": [
    "base_dir = 'C:/Users/ASUS RYZEN/AnacondaJupyter/Masker/DatasetCombinedResized'\n",
    "feature_dir = 'C:/Users/ASUS RYZEN/AnacondaJupyter/Masker/feature_extract'\n",
    "\n",
    "img_paths = list()\n",
    "features = list()\n",
    "\n",
    "for img_path in sorted(Path(base_dir).glob(\"*.png\")):\n",
    "    img_paths.append(img_path)\n",
    "    feature = fe.extract(img=Image.open(img_path))\n",
    "    features.append(feature)\n",
    "\n",
    "features = np.array(features)\n",
    "np.save(feature_dir + '/extracted_feature.npy', features)"
   ]
  },
  {
   "cell_type": "code",
   "execution_count": null,
   "metadata": {},
   "outputs": [],
   "source": []
  },
  {
   "cell_type": "code",
   "execution_count": null,
   "metadata": {},
   "outputs": [],
   "source": []
  }
 ],
 "metadata": {
  "kernelspec": {
   "display_name": "Python 3",
   "language": "python",
   "name": "python3"
  },
  "language_info": {
   "codemirror_mode": {
    "name": "ipython",
    "version": 3
   },
   "file_extension": ".py",
   "mimetype": "text/x-python",
   "name": "python",
   "nbconvert_exporter": "python",
   "pygments_lexer": "ipython3",
   "version": "3.8.5"
  }
 },
 "nbformat": 4,
 "nbformat_minor": 4
}
